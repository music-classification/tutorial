{
 "cells": [
  {
   "cell_type": "markdown",
   "metadata": {},
   "source": [
    "# Self-Supervised Learning"
   ]
  },
  {
   "cell_type": "markdown",
   "metadata": {},
   "source": [
    "## Contrastive Learning\n",
    "\n",
    "Contrastive learning is a method that describes learning representations by way of modeling similarity from natural variations of data, which is often organised into similar and dissimilar pairs, or by way of organising (insert BYOL here).\n",
    "\n",
    "It is often presented in the following stages:\n",
    "1. Encode different \"views\" from natural variations of a single example.\n",
    "2. Compute a similarity metric on the representations from the encoder(s).\n",
    "3. Evaluate the pre-trained representations with linear regression on the downstream task(s).\n"
   ]
  },
  {
   "cell_type": "markdown",
   "metadata": {},
   "source": [
    "### Contrastive Losses\n",
    "\n",
    "\n",
    "<div align=\"center\">\n",
    "    <img width=\"500\" src=\"https://i.imgur.com/2uZeF4U.png\"/>\n",
    "    <div>Figure 1 from \"Improved Baselines with Momentum Contrastive Learning\" (Chen et al., 2020)</div>\n",
    "</div>\n",
    "\n",
    "Many contrastive learning methods use a variant of a contrastive loss function, which was first introduced in Noise Contrastive Estimation (Gutmann et al., 2010) and subsequently the InfoNCE loss from Contrastive Predictive Coding (Van den Oord et al., 2019).\n",
    "\n",
    "This loss can be minimized using a variety of methods, which mostly differ in how they keep track of the keys of data examples. In the case of SimCLR (Chen et al., 2020), a single batch consists both of \"positive\" and \"negative\" pairs, which act as \"keys\" to the original examples. These are updated end-to-end by back-propagation. To increase the complexity of the contrastive learning task, it requires a large batch size to contain more negative examples. Conversely, for Momentum Contrast the negative examples' keys are maintained in a queue. It only encodes the queries and the positive keys in a single batch.\n",
    "\n",
    "\n",
    "$$\\mathcal{L}_{q, k^{+},\\left\\{k^{-}\\right\\}}=-\\log \\frac{\\exp \\left(q \\cdot k^{+} / \\tau\\right)}{\\exp \\left(q \\cdot k^{+} / \\tau\\right)+\\sum_{k^{-}} \\exp \\left(q \\cdot k^{-} / \\tau\\right)}$$\n"
   ]
  },
  {
   "cell_type": "markdown",
   "metadata": {},
   "source": [
    "## CLMR\n",
    "\n",
    "In the following examples, we will be taking a look at how Contrastive Learning of Musical Representations (Spijkervet & Burgoyne, 2021) uses self-supervised learning to learn powerful representations for the downstream task of music tagging. \n",
    "\n",
    "<div align=\"center\">\n",
    "<img width=\"700\" src=\"../images/janne/clmr_model.png\"/>\n",
    "</div>\n",
    "\n",
    "In the above figure, we transform a single audio example into two, distinct augmented views.\n",
    "\n",
    "by processing it through a set of stochastic audio augmentations.\n",
    "\n",
    "\n",
    "\n",
    "- Explain the intuition\n",
    "- Explain SimCLR\n",
    "- Explain SampleCNN\n",
    "\n",
    "## Dataset\n",
    "- We can initialise MTAT, MSD, or your own set of .mp3 / .wav files."
   ]
  },
  {
   "cell_type": "code",
   "execution_count": 8,
   "metadata": {
    "collapsed": true,
    "jupyter": {
     "outputs_hidden": true
    },
    "tags": []
   },
   "outputs": [
    {
     "name": "stdout",
     "output_type": "stream",
     "text": [
      "fatal: destination path 'clmr' already exists and is not an empty directory.\n",
      "Processing ./clmr\n",
      "Requirement already satisfied: simclr in /Users/janne/miniconda3/envs/tutorial/lib/python3.8/site-packages (from clmr==0.1.0) (1.0.2)\n",
      "Requirement already satisfied: torchaudio-augmentations in /Users/janne/miniconda3/envs/tutorial/lib/python3.8/site-packages (from clmr==0.1.0) (0.2.2)\n",
      "Requirement already satisfied: torch in /Users/janne/miniconda3/envs/tutorial/lib/python3.8/site-packages (from clmr==0.1.0) (1.9.1)\n",
      "Requirement already satisfied: torchaudio in /Users/janne/miniconda3/envs/tutorial/lib/python3.8/site-packages (from clmr==0.1.0) (0.9.1)\n",
      "Requirement already satisfied: pytorch-lightning in /Users/janne/miniconda3/envs/tutorial/lib/python3.8/site-packages (from clmr==0.1.0) (1.4.9)\n",
      "Requirement already satisfied: soundfile in /Users/janne/miniconda3/envs/tutorial/lib/python3.8/site-packages (from clmr==0.1.0) (0.10.3.post1)\n",
      "Requirement already satisfied: sklearn in /Users/janne/miniconda3/envs/tutorial/lib/python3.8/site-packages (from clmr==0.1.0) (0.0)\n",
      "Requirement already satisfied: matplotlib in /Users/janne/miniconda3/envs/tutorial/lib/python3.8/site-packages (from clmr==0.1.0) (3.4.3)\n",
      "Requirement already satisfied: pillow>=6.2.0 in /Users/janne/miniconda3/envs/tutorial/lib/python3.8/site-packages (from matplotlib->clmr==0.1.0) (8.3.2)\n",
      "Requirement already satisfied: pyparsing>=2.2.1 in /Users/janne/miniconda3/envs/tutorial/lib/python3.8/site-packages (from matplotlib->clmr==0.1.0) (2.4.7)\n",
      "Requirement already satisfied: python-dateutil>=2.7 in /Users/janne/miniconda3/envs/tutorial/lib/python3.8/site-packages (from matplotlib->clmr==0.1.0) (2.8.2)\n",
      "Requirement already satisfied: cycler>=0.10 in /Users/janne/miniconda3/envs/tutorial/lib/python3.8/site-packages (from matplotlib->clmr==0.1.0) (0.10.0)\n",
      "Requirement already satisfied: numpy>=1.16 in /Users/janne/miniconda3/envs/tutorial/lib/python3.8/site-packages (from matplotlib->clmr==0.1.0) (1.21.2)\n",
      "Requirement already satisfied: kiwisolver>=1.0.1 in /Users/janne/miniconda3/envs/tutorial/lib/python3.8/site-packages (from matplotlib->clmr==0.1.0) (1.3.2)\n",
      "Requirement already satisfied: six in /Users/janne/miniconda3/envs/tutorial/lib/python3.8/site-packages (from cycler>=0.10->matplotlib->clmr==0.1.0) (1.16.0)\n",
      "Requirement already satisfied: packaging>=17.0 in /Users/janne/miniconda3/envs/tutorial/lib/python3.8/site-packages (from pytorch-lightning->clmr==0.1.0) (21.0)\n",
      "Requirement already satisfied: future>=0.17.1 in /Users/janne/miniconda3/envs/tutorial/lib/python3.8/site-packages (from pytorch-lightning->clmr==0.1.0) (0.18.2)\n",
      "Requirement already satisfied: tensorboard>=2.2.0 in /Users/janne/miniconda3/envs/tutorial/lib/python3.8/site-packages (from pytorch-lightning->clmr==0.1.0) (2.6.0)\n",
      "Requirement already satisfied: PyYAML>=5.1 in /Users/janne/miniconda3/envs/tutorial/lib/python3.8/site-packages (from pytorch-lightning->clmr==0.1.0) (5.4.1)\n",
      "Requirement already satisfied: typing-extensions in /Users/janne/miniconda3/envs/tutorial/lib/python3.8/site-packages (from pytorch-lightning->clmr==0.1.0) (3.10.0.2)\n",
      "Requirement already satisfied: pyDeprecate==0.3.1 in /Users/janne/miniconda3/envs/tutorial/lib/python3.8/site-packages (from pytorch-lightning->clmr==0.1.0) (0.3.1)\n",
      "Requirement already satisfied: tqdm>=4.41.0 in /Users/janne/miniconda3/envs/tutorial/lib/python3.8/site-packages (from pytorch-lightning->clmr==0.1.0) (4.62.3)\n",
      "Requirement already satisfied: fsspec[http]!=2021.06.0,>=2021.05.0 in /Users/janne/miniconda3/envs/tutorial/lib/python3.8/site-packages (from pytorch-lightning->clmr==0.1.0) (2021.10.0)\n",
      "Requirement already satisfied: torchmetrics>=0.4.0 in /Users/janne/miniconda3/envs/tutorial/lib/python3.8/site-packages (from pytorch-lightning->clmr==0.1.0) (0.5.1)\n",
      "Requirement already satisfied: aiohttp in /Users/janne/miniconda3/envs/tutorial/lib/python3.8/site-packages (from fsspec[http]!=2021.06.0,>=2021.05.0->pytorch-lightning->clmr==0.1.0) (3.7.4.post0)\n",
      "Requirement already satisfied: requests in /Users/janne/miniconda3/envs/tutorial/lib/python3.8/site-packages (from fsspec[http]!=2021.06.0,>=2021.05.0->pytorch-lightning->clmr==0.1.0) (2.26.0)\n",
      "Requirement already satisfied: google-auth<2,>=1.6.3 in /Users/janne/miniconda3/envs/tutorial/lib/python3.8/site-packages (from tensorboard>=2.2.0->pytorch-lightning->clmr==0.1.0) (1.35.0)\n",
      "Requirement already satisfied: wheel>=0.26 in /Users/janne/miniconda3/envs/tutorial/lib/python3.8/site-packages (from tensorboard>=2.2.0->pytorch-lightning->clmr==0.1.0) (0.37.0)\n",
      "Requirement already satisfied: markdown>=2.6.8 in /Users/janne/miniconda3/envs/tutorial/lib/python3.8/site-packages (from tensorboard>=2.2.0->pytorch-lightning->clmr==0.1.0) (3.3.4)\n",
      "Requirement already satisfied: tensorboard-data-server<0.7.0,>=0.6.0 in /Users/janne/miniconda3/envs/tutorial/lib/python3.8/site-packages (from tensorboard>=2.2.0->pytorch-lightning->clmr==0.1.0) (0.6.1)\n",
      "Requirement already satisfied: setuptools>=41.0.0 in /Users/janne/miniconda3/envs/tutorial/lib/python3.8/site-packages (from tensorboard>=2.2.0->pytorch-lightning->clmr==0.1.0) (58.0.4)\n",
      "Requirement already satisfied: protobuf>=3.6.0 in /Users/janne/miniconda3/envs/tutorial/lib/python3.8/site-packages (from tensorboard>=2.2.0->pytorch-lightning->clmr==0.1.0) (3.18.0)\n",
      "Requirement already satisfied: werkzeug>=0.11.15 in /Users/janne/miniconda3/envs/tutorial/lib/python3.8/site-packages (from tensorboard>=2.2.0->pytorch-lightning->clmr==0.1.0) (2.0.1)\n",
      "Requirement already satisfied: grpcio>=1.24.3 in /Users/janne/miniconda3/envs/tutorial/lib/python3.8/site-packages (from tensorboard>=2.2.0->pytorch-lightning->clmr==0.1.0) (1.41.0)\n",
      "Requirement already satisfied: tensorboard-plugin-wit>=1.6.0 in /Users/janne/miniconda3/envs/tutorial/lib/python3.8/site-packages (from tensorboard>=2.2.0->pytorch-lightning->clmr==0.1.0) (1.8.0)\n",
      "Requirement already satisfied: google-auth-oauthlib<0.5,>=0.4.1 in /Users/janne/miniconda3/envs/tutorial/lib/python3.8/site-packages (from tensorboard>=2.2.0->pytorch-lightning->clmr==0.1.0) (0.4.6)\n",
      "Requirement already satisfied: absl-py>=0.4 in /Users/janne/miniconda3/envs/tutorial/lib/python3.8/site-packages (from tensorboard>=2.2.0->pytorch-lightning->clmr==0.1.0) (0.14.1)\n",
      "Requirement already satisfied: pyasn1-modules>=0.2.1 in /Users/janne/miniconda3/envs/tutorial/lib/python3.8/site-packages (from google-auth<2,>=1.6.3->tensorboard>=2.2.0->pytorch-lightning->clmr==0.1.0) (0.2.8)\n",
      "Requirement already satisfied: rsa<5,>=3.1.4 in /Users/janne/miniconda3/envs/tutorial/lib/python3.8/site-packages (from google-auth<2,>=1.6.3->tensorboard>=2.2.0->pytorch-lightning->clmr==0.1.0) (4.7.2)\n",
      "Requirement already satisfied: cachetools<5.0,>=2.0.0 in /Users/janne/miniconda3/envs/tutorial/lib/python3.8/site-packages (from google-auth<2,>=1.6.3->tensorboard>=2.2.0->pytorch-lightning->clmr==0.1.0) (4.2.4)\n",
      "Requirement already satisfied: requests-oauthlib>=0.7.0 in /Users/janne/miniconda3/envs/tutorial/lib/python3.8/site-packages (from google-auth-oauthlib<0.5,>=0.4.1->tensorboard>=2.2.0->pytorch-lightning->clmr==0.1.0) (1.3.0)\n",
      "Requirement already satisfied: pyasn1<0.5.0,>=0.4.6 in /Users/janne/miniconda3/envs/tutorial/lib/python3.8/site-packages (from pyasn1-modules>=0.2.1->google-auth<2,>=1.6.3->tensorboard>=2.2.0->pytorch-lightning->clmr==0.1.0) (0.4.8)\n",
      "Requirement already satisfied: certifi>=2017.4.17 in /Users/janne/miniconda3/envs/tutorial/lib/python3.8/site-packages (from requests->fsspec[http]!=2021.06.0,>=2021.05.0->pytorch-lightning->clmr==0.1.0) (2021.5.30)\n",
      "Requirement already satisfied: idna<4,>=2.5 in /Users/janne/miniconda3/envs/tutorial/lib/python3.8/site-packages (from requests->fsspec[http]!=2021.06.0,>=2021.05.0->pytorch-lightning->clmr==0.1.0) (3.2)\n",
      "Requirement already satisfied: charset-normalizer~=2.0.0 in /Users/janne/miniconda3/envs/tutorial/lib/python3.8/site-packages (from requests->fsspec[http]!=2021.06.0,>=2021.05.0->pytorch-lightning->clmr==0.1.0) (2.0.6)\n",
      "Requirement already satisfied: urllib3<1.27,>=1.21.1 in /Users/janne/miniconda3/envs/tutorial/lib/python3.8/site-packages (from requests->fsspec[http]!=2021.06.0,>=2021.05.0->pytorch-lightning->clmr==0.1.0) (1.26.7)\n",
      "Requirement already satisfied: oauthlib>=3.0.0 in /Users/janne/miniconda3/envs/tutorial/lib/python3.8/site-packages (from requests-oauthlib>=0.7.0->google-auth-oauthlib<0.5,>=0.4.1->tensorboard>=2.2.0->pytorch-lightning->clmr==0.1.0) (3.1.1)\n",
      "Requirement already satisfied: multidict<7.0,>=4.5 in /Users/janne/miniconda3/envs/tutorial/lib/python3.8/site-packages (from aiohttp->fsspec[http]!=2021.06.0,>=2021.05.0->pytorch-lightning->clmr==0.1.0) (5.2.0)\n",
      "Requirement already satisfied: chardet<5.0,>=2.0 in /Users/janne/miniconda3/envs/tutorial/lib/python3.8/site-packages (from aiohttp->fsspec[http]!=2021.06.0,>=2021.05.0->pytorch-lightning->clmr==0.1.0) (4.0.0)\n",
      "Requirement already satisfied: yarl<2.0,>=1.0 in /Users/janne/miniconda3/envs/tutorial/lib/python3.8/site-packages (from aiohttp->fsspec[http]!=2021.06.0,>=2021.05.0->pytorch-lightning->clmr==0.1.0) (1.6.3)\n",
      "Requirement already satisfied: async-timeout<4.0,>=3.0 in /Users/janne/miniconda3/envs/tutorial/lib/python3.8/site-packages (from aiohttp->fsspec[http]!=2021.06.0,>=2021.05.0->pytorch-lightning->clmr==0.1.0) (3.0.1)\n",
      "Requirement already satisfied: attrs>=17.3.0 in /Users/janne/miniconda3/envs/tutorial/lib/python3.8/site-packages (from aiohttp->fsspec[http]!=2021.06.0,>=2021.05.0->pytorch-lightning->clmr==0.1.0) (20.3.0)\n",
      "Requirement already satisfied: torchvision in /Users/janne/miniconda3/envs/tutorial/lib/python3.8/site-packages (from simclr->clmr==0.1.0) (0.10.1)\n",
      "Requirement already satisfied: scikit-learn in /Users/janne/miniconda3/envs/tutorial/lib/python3.8/site-packages (from sklearn->clmr==0.1.0) (1.0)\n",
      "Requirement already satisfied: threadpoolctl>=2.0.0 in /Users/janne/miniconda3/envs/tutorial/lib/python3.8/site-packages (from scikit-learn->sklearn->clmr==0.1.0) (3.0.0)\n",
      "Requirement already satisfied: joblib>=0.11 in /Users/janne/miniconda3/envs/tutorial/lib/python3.8/site-packages (from scikit-learn->sklearn->clmr==0.1.0) (1.0.1)\n",
      "Requirement already satisfied: scipy>=1.1.0 in /Users/janne/miniconda3/envs/tutorial/lib/python3.8/site-packages (from scikit-learn->sklearn->clmr==0.1.0) (1.7.1)\n",
      "Requirement already satisfied: cffi>=1.0 in /Users/janne/miniconda3/envs/tutorial/lib/python3.8/site-packages (from soundfile->clmr==0.1.0) (1.14.6)\n",
      "Requirement already satisfied: pycparser in /Users/janne/miniconda3/envs/tutorial/lib/python3.8/site-packages (from cffi>=1.0->soundfile->clmr==0.1.0) (2.20)\n",
      "Requirement already satisfied: julius in /Users/janne/miniconda3/envs/tutorial/lib/python3.8/site-packages (from torchaudio-augmentations->clmr==0.1.0) (0.2.5)\n",
      "Requirement already satisfied: wavaugment in /Users/janne/miniconda3/envs/tutorial/lib/python3.8/site-packages (from torchaudio-augmentations->clmr==0.1.0) (0.2)\n",
      "Building wheels for collected packages: clmr\n",
      "  Building wheel for clmr (setup.py) ... \u001b[?25ldone\n",
      "\u001b[?25h  Created wheel for clmr: filename=clmr-0.1.0-py3-none-any.whl size=7258 sha256=405a5457bfa7d1dac3f51ad0e16076fd845c1d641e5ccc680299d48fdde1200f\n",
      "  Stored in directory: /private/var/folders/5n/msbkkqhj2y9bhqwj2gvr70n40000gp/T/pip-ephem-wheel-cache-gimi64r8/wheels/ef/e0/26/af55c7a1a7eac7e884f75767d644d68122ac8a86a7641fad16\n",
      "Successfully built clmr\n",
      "Installing collected packages: clmr\n",
      "  Attempting uninstall: clmr\n",
      "    Found existing installation: clmr 0.1.0\n",
      "    Uninstalling clmr-0.1.0:\n",
      "      Successfully uninstalled clmr-0.1.0\n",
      "Successfully installed clmr-0.1.0\n"
     ]
    }
   ],
   "source": [
    "!git clone https://github.com/spijkervet/clmr.git\n",
    "!pip3 install clmr/\n",
    "\n",
    "import sys\n",
    "sys.path.append(\"clmr\")"
   ]
  },
  {
   "cell_type": "code",
   "execution_count": 12,
   "metadata": {},
   "outputs": [
    {
     "name": "stderr",
     "output_type": "stream",
     "text": [
      "100.0%\n",
      "100.0%\n",
      "100.0%\n",
      "100.0%\n",
      "100.0%\n",
      "100.0%\n",
      "100.0%\n",
      "100.0%\n",
      "100.0%\n",
      "100.0%\n",
      "100.0%\n",
      "100.0%\n",
      "100.0%\n"
     ]
    },
    {
     "name": "stdout",
     "output_type": "stream",
     "text": [
      "Merging zip files...\n"
     ]
    }
   ],
   "source": [
    "from clmr.datasets import get_dataset\n",
    "\n",
    "train_dataset = get_dataset(\"magnatagatune\", \"./data\", subset=\"train\")"
   ]
  },
  {
   "cell_type": "markdown",
   "metadata": {},
   "source": [
    "\n",
    "### Audio Data Augmentations\n",
    "- Crop\n",
    "- Filter\n",
    "- Reverb\n",
    "- Polarity\n",
    "- Noise\n",
    "- Pitch\n",
    "- Gain\n",
    "- Delay\n"
   ]
  },
  {
   "cell_type": "code",
   "execution_count": 1,
   "metadata": {},
   "outputs": [],
   "source": [
    "import torchaudio\n",
    "from torchaudio_augmentations import (\n",
    "    RandomApply,\n",
    "    ComposeMany,\n",
    "    RandomResizedCrop,\n",
    "    PolarityInversion,\n",
    "    Noise,\n",
    "    Gain,\n",
    "    HighLowPass,\n",
    "    Delay,\n",
    "    PitchShift,\n",
    "    Reverb,\n",
    ")\n",
    "\n",
    "# audio_fp = \"test.wav\"\n",
    "# audio, sr = torchaudio.load(audio_fp)\n",
    "\n",
    "# transformation = HighLowPass(sr)\n",
    "# transformed_audio = transformation(audio)"
   ]
  },
  {
   "cell_type": "markdown",
   "metadata": {},
   "source": [
    "Now, let's apply a series of transformations, each applied with an independent probability:"
   ]
  },
  {
   "cell_type": "code",
   "execution_count": 2,
   "metadata": {},
   "outputs": [],
   "source": [
    "# train_transform = [\n",
    "#     RandomResizedCrop(n_samples=args.audio_length),\n",
    "#     RandomApply([PolarityInversion()], p=args.transforms_polarity),\n",
    "#     RandomApply([Noise()], p=args.transforms_noise),\n",
    "#     RandomApply([Gain()], p=args.transforms_gain),\n",
    "#     RandomApply([HighLowPass(sample_rate=args.sample_rate)], p=args.transforms_filters),\n",
    "#     RandomApply([Delay(sample_rate=args.sample_rate)], p=args.transforms_delay),\n",
    "#     RandomApply([PitchShift(n_samples=args.audio_length, sample_rate=args.sample_rate)], p=args.transforms_pitch),\n",
    "#     RandomApply([Reverb(sample_rate=args.sample_rate)], p=args.transforms_reverb),\n",
    "# ]\n",
    "# num_augmented_samples = 2"
   ]
  },
  {
   "cell_type": "markdown",
   "metadata": {},
   "source": [
    "## Loss\n",
    "\n",
    "Here, we apply an InfoNCE loss, as proposed by van den Oord et al. (2018) for contrastive learning. InfoNCE loss compares the similarity of our representations $z_i$ and $z_j$, to the similarity of $z_i$ to any other representation in our batch, and applies a softmax over the obtained similarity values. We can write this loss more formally as follows:\n",
    "\n",
    "$$\\ell_{i, j}=-\\log \\frac{\\exp \\left(\\operatorname{sim}\\left(z_{i}, z_{j}\\right) / \\tau\\right)}{\\sum_{k=1}^{2 N} \\mathbb{1}_{[k \\neq i]} \\exp \\left(\\operatorname{sim}\\left(z_{i}, z_{k}\\right) / \\tau\\right)}=-\\operatorname{sim}\\left(z_{i}, z_{j}\\right) / \\tau+\\log \\left[\\sum_{k=1}^{2 N} \\mathbb{1}_{[k \\neq i]} \\exp \\left(\\operatorname{sim}\\left(z_{i}, z_{k}\\right) / \\tau\\right)\\right]$$\n",
    "\n",
    "\n",
    "The similarity metric is the cosine similarity between our representations:\n",
    "\n",
    "$$\\operatorname{sim}\\left(z_{i}, z_{j}\\right)=\\frac{z_{i}^{\\top} \\cdot z_{j}}{\\left\\|z_{i}\\right\\| \\cdot\\left\\|z_{j}\\right\\|}$$\n"
   ]
  }
 ],
 "metadata": {
  "interpreter": {
   "hash": "aee8b7b246df8f9039afb4144a1f6fd8d2ca17a180786b69acc140d282b71a49"
  },
  "kernelspec": {
   "display_name": "tutorial",
   "language": "python",
   "name": "tutorial"
  },
  "language_info": {
   "codemirror_mode": {
    "name": "ipython",
    "version": 3
   },
   "file_extension": ".py",
   "mimetype": "text/x-python",
   "name": "python",
   "nbconvert_exporter": "python",
   "pygments_lexer": "ipython3",
   "version": "3.8.11"
  }
 },
 "nbformat": 4,
 "nbformat_minor": 4
}

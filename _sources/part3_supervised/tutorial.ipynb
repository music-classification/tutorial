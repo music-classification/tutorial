{
 "cells": [
  {
   "cell_type": "markdown",
   "metadata": {},
   "source": [
    "# PyTorch tutorial\n",
    "### Data collection\n",
    "In this PyTorch tutorial, we use GTZAN dataset which consists of 10 exclusive genre classes. Please run the following script in your local path."
   ]
  },
  {
   "cell_type": "code",
   "execution_count": null,
   "metadata": {},
   "outputs": [],
   "source": [
    "!wget http://opihi.cs.uvic.ca/sound/genres.tar.gz\n",
    "!tar -zxvf genres.tar.gz\n",
    "!wget https://raw.githubusercontent.com/coreyker/dnn-mgr/master/gtzan/train_filtered.txt\n",
    "!wget https://raw.githubusercontent.com/coreyker/dnn-mgr/master/gtzan/valid_filtered.txt\n",
    "!wget https://raw.githubusercontent.com/coreyker/dnn-mgr/master/gtzan/test_filtered.txt"
   ]
  },
  {
   "cell_type": "markdown",
   "metadata": {},
   "source": [
    "### Data loader"
   ]
  },
  {
   "cell_type": "code",
   "execution_count": 18,
   "metadata": {},
   "outputs": [],
   "source": [
    "import os\n",
    "import random\n",
    "import torch\n",
    "import numpy as np\n",
    "import soundfile as sf\n",
    "from torch.utils import data\n",
    "from torchaudio_augmentations import (\n",
    "    RandomResizedCrop,\n",
    "    RandomApply,\n",
    "    PolarityInversion,\n",
    "    Noise,\n",
    "    Gain,\n",
    "    HighLowPass,\n",
    "    Delay,\n",
    "    PitchShift,\n",
    "    Reverb,\n",
    "    Compose,\n",
    ")\n",
    "\n",
    "\n",
    "GTZAN_GENRES = ['blues', 'classical', 'country', 'disco', 'hiphop', 'jazz', 'metal', 'pop', 'reggae', 'rock']\n",
    "\n",
    "\n",
    "class GTZANDataset(data.Dataset):\n",
    "    def __init__(self, data_path, split, num_samples, num_chunks, is_augmentation):\n",
    "        self.data_path =  data_path if data_path else ''\n",
    "        self.split = split\n",
    "        self.num_samples = num_samples\n",
    "        self.num_chunks = num_chunks\n",
    "        self.is_augmentation = is_augmentation\n",
    "        self.genres = GTZAN_GENRES\n",
    "        self._get_song_list()\n",
    "        if is_augmentation:\n",
    "            self._get_augmentations()\n",
    "\n",
    "    def _get_song_list(self):\n",
    "        list_filename = os.path.join(self.data_path, '%s_filtered.txt' % self.split)\n",
    "        with open(list_filename) as f:\n",
    "            lines = f.readlines()\n",
    "        self.song_list = [line.strip() for line in lines]\n",
    "\n",
    "    def _get_augmentations(self):\n",
    "        transforms = [\n",
    "            RandomResizedCrop(n_samples=self.num_samples),\n",
    "            RandomApply([PolarityInversion()], p=0.8),\n",
    "            RandomApply([Noise(min_snr=0.3, max_snr=0.5)], p=0.3),\n",
    "            RandomApply([Gain()], p=0.2),\n",
    "            RandomApply([HighLowPass(sample_rate=22050)], p=0.8),\n",
    "            RandomApply([Delay(sample_rate=22050)], p=0.5),\n",
    "            RandomApply([PitchShift(n_samples=self.num_samples, sample_rate=22050)], p=0.4),\n",
    "            RandomApply([Reverb(sample_rate=22050)], p=0.3),\n",
    "        ]\n",
    "        self.augmentation = Compose(transforms=transforms)\n",
    "\n",
    "    def _adjust_audio_length(self, wav):\n",
    "        if self.split == 'train':\n",
    "            random_index = random.randint(0, len(wav) - self.num_samples - 1)\n",
    "            wav = wav[random_index : random_index + self.num_samples]\n",
    "        else:\n",
    "            hop = (len(wav) - self.num_samples) // self.num_chunks\n",
    "            wav = np.array([wav[i * hop : i * hop + self.num_samples] for i in range(self.num_chunks)])\n",
    "        return wav\n",
    "\n",
    "    def __getitem__(self, index):\n",
    "        line = self.song_list[index]\n",
    "\n",
    "        # get genre\n",
    "        genre_name = line.split('/')[0]\n",
    "        genre_index = self.genres.index(genre_name)\n",
    "\n",
    "        # get audio\n",
    "        audio_filename = os.path.join(self.data_path, 'genres', line)\n",
    "        wav, fs = sf.read(audio_filename)\n",
    "\n",
    "        # adjust audio length\n",
    "        wav = self._adjust_audio_length(wav).astype('float32')\n",
    "\n",
    "        # data augmentation\n",
    "        if self.is_augmentation:\n",
    "            wav = self.augmentation(torch.from_numpy(wav).unsqueeze(0)).squeeze(0).numpy()\n",
    "\n",
    "        return wav, genre_index\n",
    "\n",
    "    def __len__(self):\n",
    "        return len(self.song_list)\n",
    "\n",
    "def get_dataloader(data_path=None, \n",
    "                   split='train', \n",
    "                   num_samples=22050 * 29, \n",
    "                   num_chunks=1, \n",
    "                   batch_size=16, \n",
    "                   num_workers=0, \n",
    "                   is_augmentation=False):\n",
    "    is_shuffle = True if (split == 'train') else False\n",
    "    batch_size = batch_size if (split == 'train') else (batch_size // num_chunks)\n",
    "    data_loader = data.DataLoader(dataset=GTZANDataset(data_path, \n",
    "                                                       split, \n",
    "                                                       num_samples, \n",
    "                                                       num_chunks, \n",
    "                                                       is_augmentation),\n",
    "                                  batch_size=batch_size,\n",
    "                                  shuffle=is_shuffle,\n",
    "                                  drop_last=False,\n",
    "                                  num_workers=num_workers)\n",
    "    return data_loader\n"
   ]
  },
  {
   "cell_type": "markdown",
   "metadata": {},
   "source": [
    "Let's check returned data shapes."
   ]
  },
  {
   "cell_type": "code",
   "execution_count": 19,
   "metadata": {},
   "outputs": [
    {
     "name": "stdout",
     "output_type": "stream",
     "text": [
      "training data shape: torch.Size([16, 639450])\n",
      "validation/test data shape: torch.Size([16, 1, 639450])\n",
      "tensor([9, 3, 4, 2, 2, 5, 2, 5, 7, 1, 1, 7, 8, 7, 4, 0])\n"
     ]
    }
   ],
   "source": [
    "train_loader = get_dataloader(split='train', is_augmentation=True)\n",
    "iter_train_loader = iter(train_loader)\n",
    "train_wav, train_genre = next(iter_train_loader)\n",
    "\n",
    "valid_loader = get_dataloader(split='valid')\n",
    "test_loader = get_dataloader(split='test')\n",
    "iter_test_loader = iter(test_loader)\n",
    "test_wav, test_genre = next(iter_test_loader)\n",
    "print('training data shape: %s' % str(train_wav.shape))\n",
    "print('validation/test data shape: %s' % str(test_wav.shape))\n",
    "print(train_genre)"
   ]
  },
  {
   "cell_type": "markdown",
   "metadata": {},
   "source": [
    "```{note}\n",
    "- A data loader returns a tensor of audio and their genre indice at each iteration. \n",
    "- Random chunks of audio are cropped from the entire sequence during the training. But in validation / test phase, an entire sequence is split into multiple chunks and the chunks are stacked. The stacked chunks are later input to a trained model and the output predictions are aggregated to make song-level predictions.\n",
    "```"
   ]
  },
  {
   "cell_type": "markdown",
   "metadata": {},
   "source": [
    "### Model\n",
    "We are going to build a simple 2D CNN model with Mel spectrogram inputs. First, we design a convolution module that consists of 3x3 convolution, batch normalization, ReLU non-linearity, and 2x2 max pooling. This module is going to be used for each layer of the 2D CNN."
   ]
  },
  {
   "cell_type": "code",
   "execution_count": 20,
   "metadata": {},
   "outputs": [],
   "source": [
    "from torch import nn\n",
    "\n",
    "\n",
    "class Conv_2d(nn.Module):\n",
    "    def __init__(self, input_channels, output_channels, shape=3, pooling=2, dropout=0.1):\n",
    "        super(Conv_2d, self).__init__()\n",
    "        self.conv = nn.Conv2d(input_channels, output_channels, shape, padding=shape//2)\n",
    "        self.bn = nn.BatchNorm2d(output_channels)\n",
    "        self.relu = nn.ReLU()\n",
    "        self.maxpool = nn.MaxPool2d(pooling)\n",
    "        self.dropout = nn.Dropout(dropout)\n",
    "        \n",
    "    def forward(self, wav):\n",
    "        out = self.conv(wav)\n",
    "        out = self.bn(out)\n",
    "        out = self.relu(out)\n",
    "        out = self.maxpool(out)\n",
    "        out = self.dropout(out)\n",
    "        return out"
   ]
  },
  {
   "cell_type": "markdown",
   "metadata": {},
   "source": [
    "Stack the convolution layers. In a PyTorch module, layers are declared in `__init__` and they are built up in `forward` function."
   ]
  },
  {
   "cell_type": "code",
   "execution_count": 25,
   "metadata": {},
   "outputs": [],
   "source": [
    "import torchaudio\n",
    "\n",
    "\n",
    "class CNN(nn.Module):\n",
    "    def __init__(self, num_channels=16, \n",
    "                       sample_rate=22050, \n",
    "                       n_fft=1024, \n",
    "                       f_min=0.0, \n",
    "                       f_max=11025.0, \n",
    "                       num_mels=128, \n",
    "                       num_classes=10):\n",
    "        super(CNN, self).__init__()\n",
    "\n",
    "        # mel spectrogram\n",
    "        self.melspec = torchaudio.transforms.MelSpectrogram(sample_rate=sample_rate, \n",
    "                                                            n_fft=n_fft, \n",
    "                                                            f_min=f_min, \n",
    "                                                            f_max=f_max, \n",
    "                                                            n_mels=num_mels)\n",
    "        self.amplitude_to_db = torchaudio.transforms.AmplitudeToDB()\n",
    "        self.input_bn = nn.BatchNorm2d(1)\n",
    "\n",
    "        # convolutional layers\n",
    "        self.layer1 = Conv_2d(1, num_channels, pooling=(2, 3))\n",
    "        self.layer2 = Conv_2d(num_channels, num_channels, pooling=(3, 4))\n",
    "        self.layer3 = Conv_2d(num_channels, num_channels * 2, pooling=(2, 5))\n",
    "        self.layer4 = Conv_2d(num_channels * 2, num_channels * 2, pooling=(3, 3))\n",
    "        self.layer5 = Conv_2d(num_channels * 2, num_channels * 4, pooling=(3, 4))\n",
    "\n",
    "        # dense layers\n",
    "        self.dense1 = nn.Linear(num_channels * 4, num_channels * 4)\n",
    "        self.dense_bn = nn.BatchNorm1d(num_channels * 4)\n",
    "        self.dense2 = nn.Linear(num_channels * 4, num_classes)\n",
    "        self.dropout = nn.Dropout(0.5)\n",
    "        self.relu = nn.ReLU()\n",
    "\n",
    "    def forward(self, wav):\n",
    "        # input Preprocessing\n",
    "        out = self.melspec(wav)\n",
    "        out = self.amplitude_to_db(out)\n",
    "\n",
    "        # input batch normalization\n",
    "        out = out.unsqueeze(1)\n",
    "        out = self.input_bn(out)\n",
    "\n",
    "        # convolutional layers\n",
    "        out = self.layer1(out)\n",
    "        out = self.layer2(out)\n",
    "        out = self.layer3(out)\n",
    "        out = self.layer4(out)\n",
    "        out = self.layer5(out)\n",
    "        \n",
    "        # reshape. (batch_size, num_channels, 1, 1) -> (batch_size, num_channels)\n",
    "        out = out.reshape(len(out), -1)\n",
    "\n",
    "        # dense layers\n",
    "        out = self.dense1(out)\n",
    "        out = self.dense_bn(out)\n",
    "        out = self.relu(out)\n",
    "        out = self.dropout(out)\n",
    "        out = self.dense2(out)\n",
    "\n",
    "        return out\n"
   ]
  },
  {
   "cell_type": "markdown",
   "metadata": {},
   "source": [
    "```{note}\n",
    "In this example, we performed preprocessing on-the-fly using torchaudio. This process can be done offline outside of the network using other libraries such as [librosa](https://librosa.org/doc/latest/index.html) and [essentia](https://essentia.upf.edu/).\n",
    "```\n",
    "```{tip}\n",
    "- There is no activation function at the last layer since `nn.CrossEntropyLoss` already includes softmax in it.\n",
    "- If you want to perform multi-label binary classification, include `out = nn.Sigmoid()(out)` at the last layer and use `nn.BCELoss()`.\n",
    "```"
   ]
  },
  {
   "cell_type": "markdown",
   "metadata": {},
   "source": [
    "### Training\n",
    "Iterate training. One epoch is defined as visiting all training items once. This definition can be modified in `def __len__` in data loader."
   ]
  },
  {
   "cell_type": "code",
   "execution_count": 22,
   "metadata": {},
   "outputs": [
    {
     "name": "stdout",
     "output_type": "stream",
     "text": [
      "Epoch: [1/30], Train loss: 2.4078\n",
      "Epoch: [1/30], Valid loss: 2.3558, Valid accuracy: 0.1117\n",
      "Saving the best model at 0 epochs!\n",
      "Epoch: [2/30], Train loss: 2.3422\n",
      "Epoch: [2/30], Valid loss: 2.2748, Valid accuracy: 0.1218\n",
      "Saving the best model at 1 epochs!\n",
      "Epoch: [3/30], Train loss: 2.2830\n",
      "Epoch: [3/30], Valid loss: 2.2013, Valid accuracy: 0.1929\n",
      "Saving the best model at 2 epochs!\n",
      "Epoch: [4/30], Train loss: 2.2026\n",
      "Epoch: [4/30], Valid loss: 2.0716, Valid accuracy: 0.2487\n",
      "Saving the best model at 3 epochs!\n",
      "Epoch: [5/30], Train loss: 2.1279\n",
      "Epoch: [5/30], Valid loss: 1.9948, Valid accuracy: 0.2640\n",
      "Saving the best model at 4 epochs!\n",
      "Epoch: [6/30], Train loss: 2.1007\n",
      "Epoch: [6/30], Valid loss: 1.9407, Valid accuracy: 0.3249\n",
      "Saving the best model at 5 epochs!\n",
      "Epoch: [7/30], Train loss: 2.0670\n",
      "Epoch: [7/30], Valid loss: 1.9217, Valid accuracy: 0.3096\n",
      "Saving the best model at 6 epochs!\n",
      "Epoch: [8/30], Train loss: 2.0387\n",
      "Epoch: [8/30], Valid loss: 1.9618, Valid accuracy: 0.2893\n",
      "Epoch: [9/30], Train loss: 2.0034\n",
      "Epoch: [9/30], Valid loss: 1.7882, Valid accuracy: 0.3604\n",
      "Saving the best model at 8 epochs!\n",
      "Epoch: [10/30], Train loss: 1.9669\n",
      "Epoch: [10/30], Valid loss: 1.7608, Valid accuracy: 0.3807\n",
      "Saving the best model at 9 epochs!\n",
      "Epoch: [11/30], Train loss: 1.9212\n",
      "Epoch: [11/30], Valid loss: 1.7428, Valid accuracy: 0.3604\n",
      "Saving the best model at 10 epochs!\n",
      "Epoch: [12/30], Train loss: 1.9497\n",
      "Epoch: [12/30], Valid loss: 1.7381, Valid accuracy: 0.3401\n",
      "Saving the best model at 11 epochs!\n",
      "Epoch: [13/30], Train loss: 1.8578\n",
      "Epoch: [13/30], Valid loss: 1.7946, Valid accuracy: 0.3350\n",
      "Epoch: [14/30], Train loss: 1.8934\n",
      "Epoch: [14/30], Valid loss: 1.6822, Valid accuracy: 0.3959\n",
      "Saving the best model at 13 epochs!\n",
      "Epoch: [15/30], Train loss: 1.8459\n",
      "Epoch: [15/30], Valid loss: 1.6475, Valid accuracy: 0.4416\n",
      "Saving the best model at 14 epochs!\n",
      "Epoch: [16/30], Train loss: 1.8433\n",
      "Epoch: [16/30], Valid loss: 1.6429, Valid accuracy: 0.3503\n",
      "Saving the best model at 15 epochs!\n",
      "Epoch: [17/30], Train loss: 1.8358\n",
      "Epoch: [17/30], Valid loss: 2.0232, Valid accuracy: 0.3046\n",
      "Epoch: [18/30], Train loss: 1.8106\n",
      "Epoch: [18/30], Valid loss: 1.6712, Valid accuracy: 0.3655\n",
      "Epoch: [19/30], Train loss: 1.7393\n",
      "Epoch: [19/30], Valid loss: 2.2497, Valid accuracy: 0.2741\n",
      "Epoch: [20/30], Train loss: 1.7158\n",
      "Epoch: [20/30], Valid loss: 1.5637, Valid accuracy: 0.4162\n",
      "Saving the best model at 19 epochs!\n",
      "Epoch: [21/30], Train loss: 1.7603\n",
      "Epoch: [21/30], Valid loss: 1.4845, Valid accuracy: 0.5178\n",
      "Saving the best model at 20 epochs!\n",
      "Epoch: [22/30], Train loss: 1.7305\n",
      "Epoch: [22/30], Valid loss: 1.6282, Valid accuracy: 0.3503\n",
      "Epoch: [23/30], Train loss: 1.7213\n",
      "Epoch: [23/30], Valid loss: 1.4270, Valid accuracy: 0.5381\n",
      "Saving the best model at 22 epochs!\n",
      "Epoch: [24/30], Train loss: 1.7064\n",
      "Epoch: [24/30], Valid loss: 1.6344, Valid accuracy: 0.3655\n",
      "Epoch: [25/30], Train loss: 1.6306\n",
      "Epoch: [25/30], Valid loss: 1.3873, Valid accuracy: 0.5330\n",
      "Saving the best model at 24 epochs!\n",
      "Epoch: [26/30], Train loss: 1.7458\n",
      "Epoch: [26/30], Valid loss: 1.4194, Valid accuracy: 0.5076\n",
      "Epoch: [27/30], Train loss: 1.6578\n",
      "Epoch: [27/30], Valid loss: 1.7264, Valid accuracy: 0.3604\n",
      "Epoch: [28/30], Train loss: 1.6247\n",
      "Epoch: [28/30], Valid loss: 1.4872, Valid accuracy: 0.5076\n",
      "Epoch: [29/30], Train loss: 1.6642\n",
      "Epoch: [29/30], Valid loss: 1.3975, Valid accuracy: 0.4772\n",
      "Epoch: [30/30], Train loss: 1.6681\n",
      "Epoch: [30/30], Valid loss: 1.6023, Valid accuracy: 0.4213\n"
     ]
    }
   ],
   "source": [
    "from sklearn.metrics import accuracy_score, confusion_matrix\n",
    "\n",
    "\n",
    "device = torch.device('cuda:0' if torch.cuda.is_available() else 'cpu')\n",
    "cnn = CNN().to(device)\n",
    "loss_function = nn.CrossEntropyLoss()\n",
    "optimizer = torch.optim.Adam(cnn.parameters(), lr=0.001)\n",
    "valid_losses = []\n",
    "num_epochs = 30\n",
    "\n",
    "for epoch in range(num_epochs):\n",
    "    losses = []\n",
    "\n",
    "    # Train\n",
    "    cnn.train()\n",
    "    for (wav, genre_index) in train_loader:\n",
    "        wav = wav.to(device)\n",
    "        genre_index = genre_index.to(device)\n",
    "\n",
    "        # Forward\n",
    "        out = cnn(wav)\n",
    "        loss = loss_function(out, genre_index)\n",
    "\n",
    "        # Backward\n",
    "        optimizer.zero_grad()\n",
    "        loss.backward()\n",
    "        optimizer.step()\n",
    "        losses.append(loss.item())\n",
    "    print('Epoch: [%d/%d], Train loss: %.4f' % (epoch+1, num_epochs, np.mean(losses)))\n",
    "\n",
    "    # Validation\n",
    "    cnn.eval()\n",
    "    y_true = []\n",
    "    y_pred = []\n",
    "    losses = []\n",
    "    for wav, genre_index in valid_loader:\n",
    "        wav = wav.to(device)\n",
    "        genre_index = genre_index.to(device)\n",
    "\n",
    "        # reshape and aggregate chunk-level predictions\n",
    "        b, c, t = wav.size()\n",
    "        logits = cnn(wav.view(-1, t))\n",
    "        logits = logits.view(b, c, -1).mean(dim=1)\n",
    "        loss = loss_function(logits, genre_index)\n",
    "        losses.append(loss.item())\n",
    "        _, pred = torch.max(logits.data, 1)\n",
    "\n",
    "        # append labels and predictions\n",
    "        y_true.extend(genre_index.tolist())\n",
    "        y_pred.extend(pred.tolist())\n",
    "    accuracy = accuracy_score(y_true, y_pred)\n",
    "    valid_loss = np.mean(losses)\n",
    "    print('Epoch: [%d/%d], Valid loss: %.4f, Valid accuracy: %.4f' % (epoch+1, num_epochs, valid_loss, accuracy))\n",
    "\n",
    "    # Save model\n",
    "    valid_losses.append(valid_loss.item())\n",
    "    if np.argmin(valid_losses) == epoch:\n",
    "        print('Saving the best model at %d epochs!' % epoch)\n",
    "        torch.save(cnn.state_dict(), 'best_model.ckpt')"
   ]
  },
  {
   "cell_type": "markdown",
   "metadata": {},
   "source": [
    "### Evaluation\n",
    "Collect the trained model's predictions for the test set. Chunk-level predictions are aggregated to make song-level predictions."
   ]
  },
  {
   "cell_type": "code",
   "execution_count": 23,
   "metadata": {},
   "outputs": [
    {
     "name": "stdout",
     "output_type": "stream",
     "text": [
      "loaded!\n"
     ]
    }
   ],
   "source": [
    "# Load the best model\n",
    "S = torch.load('best_model.ckpt')\n",
    "cnn.load_state_dict(S)\n",
    "print('loaded!')\n",
    "\n",
    "# Run evaluation\n",
    "cnn.eval()\n",
    "y_true = []\n",
    "y_pred = []\n",
    "\n",
    "with torch.no_grad():\n",
    "    for wav, genre_index in test_loader:\n",
    "        wav = wav.to(device)\n",
    "        genre_index = genre_index.to(device)\n",
    "\n",
    "        # reshape and aggregate chunk-level predictions\n",
    "        b, c, t = wav.size()\n",
    "        logits = cnn(wav.view(-1, t))\n",
    "        logits = logits.view(b, c, -1).mean(dim=1)\n",
    "        _, pred = torch.max(logits.data, 1)\n",
    "\n",
    "        # append labels and predictions\n",
    "        y_true.extend(genre_index.tolist())\n",
    "        y_pred.extend(pred.tolist())"
   ]
  },
  {
   "cell_type": "markdown",
   "metadata": {},
   "source": [
    "Finally, we can assess the performance and visualize a confusion matrix for better understanding."
   ]
  },
  {
   "cell_type": "code",
   "execution_count": 24,
   "metadata": {},
   "outputs": [
    {
     "name": "stdout",
     "output_type": "stream",
     "text": [
      "Accuracy: 0.5414\n"
     ]
    },
    {
     "data": {
      "image/png": "[encoded data removed]",
      "text/plain": [
       "<Figure size 432x288 with 2 Axes>"
      ]
     },
     "metadata": {
      "needs_background": "light"
     },
     "output_type": "display_data"
    }
   ],
   "source": [
    "import seaborn as sns\n",
    "from sklearn.metrics import confusion_matrix\n",
    "\n",
    "\n",
    "accuracy = accuracy_score(y_true, y_pred)\n",
    "cm = confusion_matrix(y_true, y_pred)\n",
    "sns.heatmap(cm, annot=True, xticklabels=GTZAN_GENRES, yticklabels=GTZAN_GENRES, cmap='YlGnBu')\n",
    "print('Accuracy: %.4f' % accuracy)"
   ]
  },
  {
   "cell_type": "markdown",
   "metadata": {},
   "source": [
    "```{tip}\n",
    "In this tutorial, we did not use any high-level library for more understandable implementation. We highly recommend checking the following libraries for simplified implementation:\n",
    "- [PyTorch Lightning](https://www.pytorchlightning.ai/)\n",
    "- [Ignite](https://pytorch.org/ignite/)\n",
    "- [Hydra](https://hydra.cc/docs/intro/)\n",
    "```"
   ]
  }
 ],
 "metadata": {
  "celltoolbar": "Tags",
  "interpreter": {
   "hash": "d07f8a6d01a647f8c201632839541ae5d3157a119d69afa1c4342c330b00f4fd"
  },
  "kernelspec": {
   "display_name": "Python 3",
   "language": "python",
   "name": "python3"
  },
  "language_info": {
   "codemirror_mode": {
    "name": "ipython",
    "version": 3
   },
   "file_extension": ".py",
   "mimetype": "text/x-python",
   "name": "python",
   "nbconvert_exporter": "python",
   "pygments_lexer": "ipython3",
   "version": "3.8.11"
  }
 },
 "nbformat": 4,
 "nbformat_minor": 4
}
